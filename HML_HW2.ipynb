{
 "cells": [
  {
   "cell_type": "code",
   "execution_count": 312,
   "id": "5260e36b",
   "metadata": {},
   "outputs": [],
   "source": [
    "import numpy as np\n",
    "import pandas as pd"
   ]
  },
  {
   "cell_type": "code",
   "execution_count": 8,
   "id": "80472e15",
   "metadata": {},
   "outputs": [],
   "source": [
    "players = pd.read_pickle('chgk/players.pkl')\n",
    "results = pd.read_pickle('chgk/results.pkl')\n",
    "tournaments = pd.read_pickle('chgk/tournaments.pkl')"
   ]
  },
  {
   "cell_type": "code",
   "execution_count": 87,
   "id": "7f948340",
   "metadata": {},
   "outputs": [],
   "source": [
    "train_t = {x: tournaments[x] for x in tournaments.keys() if '2019' in tournaments[x]['dateStart']}\n",
    "test_t = {x: tournaments[x] for x in tournaments.keys() if '2020' in tournaments[x]['dateStart']}"
   ]
  },
  {
   "cell_type": "code",
   "execution_count": 88,
   "id": "f545e210",
   "metadata": {},
   "outputs": [
    {
     "data": {
      "text/plain": [
       "(687, 418)"
      ]
     },
     "execution_count": 88,
     "metadata": {},
     "output_type": "execute_result"
    }
   ],
   "source": [
    "len(train_t), len(test_t)"
   ]
  },
  {
   "cell_type": "code",
   "execution_count": 89,
   "id": "160964c3",
   "metadata": {},
   "outputs": [],
   "source": [
    "tournaments_ids = set(train_t.keys())\n",
    "result_filter = {x : results[x] for x in results.keys() if x in tournaments_ids}"
   ]
  },
  {
   "cell_type": "code",
   "execution_count": 105,
   "id": "e3a78c0e",
   "metadata": {},
   "outputs": [],
   "source": [
    "def parse_info(results, tournaments_ids):\n",
    "    result_filter = {x : results[x] for x in results.keys() if x in tournaments_ids}\n",
    "    data = []\n",
    "    columns = [\n",
    "        'game_id',\n",
    "        'player_id',\n",
    "        'player_name',\n",
    "        'player_surname',\n",
    "        'player_patronymic',\n",
    "        'player_rating',\n",
    "        'player_usedRating',\n",
    "        'player_flag',\n",
    "        'team_id',\n",
    "        'team_position',\n",
    "        'team_questionsTotal',\n",
    "        'team_mask'\n",
    "    ]\n",
    "    for key_t, game in result_filter.items():\n",
    "        for j, team in enumerate(game):\n",
    "            if 'mask' in team.keys():\n",
    "                for member in team['teamMembers']:\n",
    "                    row = [\n",
    "                        key_t,\n",
    "                        member['player']['id'],\n",
    "                        member['player']['name'],\n",
    "                        member['player']['surname'],\n",
    "                        member['player']['patronymic'],\n",
    "                        member['rating'],\n",
    "                        member['usedRating'],\n",
    "                        member['flag'],\n",
    "                        team['team']['id'],\n",
    "                        team['position'],\n",
    "                        team['questionsTotal'],\n",
    "                        team['mask']\n",
    "                    ]\n",
    "                    data.append(row)\n",
    "    return pd.DataFrame(data, columns=columns)"
   ]
  },
  {
   "cell_type": "code",
   "execution_count": 160,
   "id": "20443d66",
   "metadata": {},
   "outputs": [],
   "source": [
    "train_data = parse_info(results, set(train_t.keys()))\n",
    "test_data = parse_info(results, set(test_t.keys()))"
   ]
  },
  {
   "cell_type": "code",
   "execution_count": 161,
   "id": "f2182ada",
   "metadata": {},
   "outputs": [],
   "source": [
    "def parse_t_info(t):\n",
    "    columns = [\n",
    "        'game_id',\n",
    "        'game_name',\n",
    "        'game_dateStart',\n",
    "        'game_dateEnd',\n",
    "        'game_type_id',\n",
    "        'game_type_name',\n",
    "        'game_season',\n",
    "        'game_num_parts',\n",
    "        'game_total_gues',\n",
    "    ]\n",
    "    data = []\n",
    "    for t, t_info in t.items():\n",
    "        questionQty = t_info.get('questionQty', dict())\n",
    "        if questionQty is None:\n",
    "            questionQty = dict()\n",
    "        row = [\n",
    "            t_info['id'],\n",
    "            t_info['name'],\n",
    "            t_info['dateStart'],\n",
    "            t_info['dateEnd'],\n",
    "            t_info['type']['id'],\n",
    "            t_info['type']['name'],\n",
    "            t_info['season'],\n",
    "            len(questionQty),\n",
    "            sum(questionQty.values()),\n",
    "        ]\n",
    "        data.append(row)\n",
    "    return pd.DataFrame(data, columns=columns)"
   ]
  },
  {
   "cell_type": "code",
   "execution_count": 162,
   "id": "2345c443",
   "metadata": {},
   "outputs": [],
   "source": [
    "t_info = parse_t_info({**train_t, **test_t})"
   ]
  },
  {
   "cell_type": "code",
   "execution_count": 163,
   "id": "ac360874",
   "metadata": {},
   "outputs": [],
   "source": [
    "def parse_mask(mask):\n",
    "    return list(map(int, list(mask.replace('X', '2').replace('?', '3'))))"
   ]
  },
  {
   "cell_type": "code",
   "execution_count": 164,
   "id": "86329394",
   "metadata": {},
   "outputs": [],
   "source": [
    "train_data = train_data[~train_data.team_mask.isnull()]\n",
    "test_data = test_data[~test_data.team_mask.isnull()]"
   ]
  },
  {
   "cell_type": "code",
   "execution_count": 177,
   "id": "3b839d5f",
   "metadata": {},
   "outputs": [],
   "source": [
    "train_data['mask_parse'] = train_data.team_mask.map(parse_mask)\n",
    "test_data['mask_parse'] = test_data.team_mask.map(parse_mask)\n",
    "train_data['ques_range'] = train_data.mask_parse.map(lambda x: list(range(len(x))))\n",
    "test_data['ques_range'] = test_data.mask_parse.map(lambda x: list(range(len(x))))"
   ]
  },
  {
   "cell_type": "code",
   "execution_count": 178,
   "id": "471ff05a",
   "metadata": {},
   "outputs": [],
   "source": [
    "train_data = train_data.explode(column=['mask_parse', 'ques_range'])\n",
    "test_data = test_data.explode(column=['mask_parse', 'ques_range'])"
   ]
  },
  {
   "cell_type": "code",
   "execution_count": 195,
   "id": "26088c28",
   "metadata": {},
   "outputs": [],
   "source": [
    "train_data.mask_parse = train_data.mask_parse.astype(int)\n",
    "test_data.mask_parse = test_data.mask_parse.astype(int)"
   ]
  },
  {
   "cell_type": "code",
   "execution_count": 200,
   "id": "60666f2a",
   "metadata": {},
   "outputs": [],
   "source": [
    "train_data = train_data[train_data.mask_parse < 2]\n",
    "test_data = test_data[test_data.mask_parse < 2]"
   ]
  },
  {
   "cell_type": "code",
   "execution_count": 201,
   "id": "e4d9fa9a",
   "metadata": {},
   "outputs": [
    {
     "data": {
      "text/plain": [
       "((20910740, 14), (4469664, 14))"
      ]
     },
     "execution_count": 201,
     "metadata": {},
     "output_type": "execute_result"
    }
   ],
   "source": [
    "train_data.shape, test_data.shape"
   ]
  },
  {
   "cell_type": "code",
   "execution_count": 223,
   "id": "3c7f15ca",
   "metadata": {},
   "outputs": [],
   "source": [
    "ques_info_1 = (\n",
    "    train_data[['game_id', 'team_id', 'ques_range', 'player_rating', 'player_usedRating', 'mask_parse']]\n",
    "    .groupby(by=['game_id', 'team_id', 'ques_range'])\n",
    "    .agg('mean')\n",
    "    .reset_index()\n",
    "    .rename(columns={\n",
    "        'player_rating': 'mean_player_rating',\n",
    "        'player_usedRating': 'mean_player_usedRating',\n",
    "        'mask_parse': 'mask_parse'\n",
    "    })\n",
    ")\n",
    "ques_info_2 = (\n",
    "    ques_info_1[['game_id', 'ques_range', 'mean_player_rating', 'mean_player_usedRating', 'mask_parse']]\n",
    "    .drop_duplicates()\n",
    "    .groupby(by=['game_id', 'ques_range'])\n",
    "    .agg('mean')\n",
    "    .reset_index()\n",
    "    .rename(columns={\n",
    "        'mean_player_rating': 'mean_mean_player_rating',\n",
    "        'mean_player_usedRating': 'mean_mean_player_usedRating',\n",
    "        'mask_parse': 'mean_mask_parse'\n",
    "    })\n",
    ")\n",
    "ques_info_3 = (\n",
    "    ques_info_1[['game_id', 'ques_range', 'mean_player_rating', 'mean_player_usedRating', 'mask_parse']]\n",
    "    .drop_duplicates()\n",
    "    .groupby(by=['game_id', 'ques_range', 'mask_parse'])\n",
    "    .agg('mean')\n",
    "    .reset_index()\n",
    "    .rename(columns={\n",
    "        'mean_player_rating': 'mask_mean_mean_player_rating',\n",
    "        'mean_player_usedRating': 'mask_mean_mean_player_usedRating',\n",
    "    })\n",
    ")\n",
    "\n"
   ]
  },
  {
   "cell_type": "code",
   "execution_count": 224,
   "id": "98ded1ef",
   "metadata": {},
   "outputs": [
    {
     "data": {
      "text/plain": [
       "(20910740, 14)"
      ]
     },
     "execution_count": 224,
     "metadata": {},
     "output_type": "execute_result"
    }
   ],
   "source": [
    "train_data.shape"
   ]
  },
  {
   "cell_type": "code",
   "execution_count": 225,
   "id": "fae55f9a",
   "metadata": {},
   "outputs": [],
   "source": [
    "train_data_feat = (\n",
    "    train_data\n",
    "    .merge(ques_info_1, on=['game_id', 'team_id', 'ques_range', 'mask_parse'])\n",
    "    .merge(ques_info_2, on=['game_id', 'ques_range'])\n",
    "    .merge(ques_info_3, on=['game_id', 'ques_range', 'mask_parse'])\n",
    ")"
   ]
  },
  {
   "cell_type": "code",
   "execution_count": 313,
   "id": "40cf9f2d",
   "metadata": {},
   "outputs": [
    {
     "data": {
      "text/plain": [
       "Index(['game_id', 'player_id', 'player_name', 'player_surname',\n",
       "       'player_patronymic', 'player_rating', 'player_usedRating',\n",
       "       'player_flag', 'team_id', 'team_position', 'team_questionsTotal',\n",
       "       'team_mask', 'mask_parse', 'ques_range', 'mean_player_rating',\n",
       "       'mean_player_usedRating', 'mean_mean_player_rating',\n",
       "       'mean_mean_player_usedRating', 'mean_mask_parse',\n",
       "       'mask_mean_mean_player_rating', 'mask_mean_mean_player_usedRating',\n",
       "       'predict'],\n",
       "      dtype='object')"
      ]
     },
     "execution_count": 313,
     "metadata": {},
     "output_type": "execute_result"
    }
   ],
   "source": [
    "train_data_feat.columns"
   ]
  },
  {
   "cell_type": "code",
   "execution_count": 314,
   "id": "d05e8a54",
   "metadata": {},
   "outputs": [],
   "source": [
    "from sklearn.preprocessing import StandardScaler\n",
    "scaler = StandardScaler()\n",
    "x = train_data_feat[[\n",
    "    'player_usedRating',\n",
    "    'team_position',\n",
    "    'team_questionsTotal',\n",
    "    'mean_player_rating',\n",
    "    'mean_player_usedRating',\n",
    "    'mean_mean_player_rating',\n",
    "    'mean_mean_player_usedRating',\n",
    "    'mean_mask_parse',\n",
    "    'mask_mean_mean_player_rating',\n",
    "    'mask_mean_mean_player_usedRating'\n",
    "]]\n",
    "scaler.fit(x)\n",
    "x_s = scaler.transform(x)"
   ]
  },
  {
   "cell_type": "code",
   "execution_count": 315,
   "id": "f6f425bc",
   "metadata": {},
   "outputs": [
    {
     "data": {
      "text/plain": [
       "0    11821102\n",
       "1     9089638\n",
       "Name: mask_parse, dtype: int64"
      ]
     },
     "execution_count": 315,
     "metadata": {},
     "output_type": "execute_result"
    }
   ],
   "source": [
    "train_data_feat.mask_parse.value_counts()"
   ]
  },
  {
   "cell_type": "code",
   "execution_count": 316,
   "id": "a4bfc6c3",
   "metadata": {},
   "outputs": [],
   "source": [
    "from sklearn.linear_model import LogisticRegression\n",
    "clf = LogisticRegression(random_state=0, max_iter=1000).fit(x_s, train_data_feat.mask_parse)"
   ]
  },
  {
   "cell_type": "code",
   "execution_count": 317,
   "id": "aa63492f",
   "metadata": {},
   "outputs": [
    {
     "name": "stdout",
     "output_type": "stream",
     "text": [
      "0.963722852467201\n",
      "0.9934120258378619\n"
     ]
    }
   ],
   "source": [
    "from sklearn.metrics import accuracy_score, roc_auc_score\n",
    "print(accuracy_score(train_data_feat.mask_parse, clf.predict(x_s)))\n",
    "print(roc_auc_score(train_data_feat.mask_parse, clf.predict_proba(x_s)[:, 1]))"
   ]
  },
  {
   "cell_type": "code",
   "execution_count": 318,
   "id": "af6b0e7f",
   "metadata": {},
   "outputs": [],
   "source": [
    "train_data_feat['predict'] = clf.predict_proba(x_s)[:, 1]"
   ]
  },
  {
   "cell_type": "code",
   "execution_count": 319,
   "id": "6225174d",
   "metadata": {},
   "outputs": [],
   "source": [
    "rating = (\n",
    "    train_data_feat[['player_id', 'player_name', 'player_surname', 'predict']]\n",
    "    .groupby(['player_id', 'player_name', 'player_surname'])\n",
    "    .agg('mean')\n",
    "    .reset_index()\n",
    "    .sort_values(by='predict', ascending=False)\n",
    ")"
   ]
  },
  {
   "cell_type": "markdown",
   "id": "945cc29a",
   "metadata": {},
   "source": [
    "Сначала попробуем отранжировать команды по среднему рейтингу игроков, если рейтинг неизвестен - заменяем рейтинг на 0.34 (средний рейтинг)."
   ]
  },
  {
   "cell_type": "code",
   "execution_count": 320,
   "id": "ff120c87",
   "metadata": {},
   "outputs": [
    {
     "name": "stdout",
     "output_type": "stream",
     "text": [
      "Кол-во игроков с неизвестным рейтингом - 4382\n"
     ]
    }
   ],
   "source": [
    "print('Кол-во игроков с неизвестным рейтингом -', len(set(test_data.player_id) - set(rating.player_id)))"
   ]
  },
  {
   "cell_type": "code",
   "execution_count": 321,
   "id": "820ab193",
   "metadata": {},
   "outputs": [],
   "source": [
    "test_data_predict = (\n",
    "    test_data\n",
    "    .merge(rating[['player_id', 'predict']], on='player_id', how='left')\n",
    "    .fillna({'predict': 0.34})\n",
    ")"
   ]
  },
  {
   "cell_type": "code",
   "execution_count": 322,
   "id": "5c3d5ed4",
   "metadata": {},
   "outputs": [],
   "source": [
    "test_data_team_rating = (\n",
    "    test_data_predict[['game_id', 'team_id', 'team_position', 'predict']]\n",
    "    .groupby(by=['game_id', 'team_id'])\n",
    "    .agg('mean')\n",
    "    .reset_index()\n",
    "    .sort_values(by=['game_id', 'predict'], ascending=False)\n",
    ")"
   ]
  },
  {
   "cell_type": "code",
   "execution_count": 323,
   "id": "58d38656",
   "metadata": {},
   "outputs": [],
   "source": [
    "test_data_team_rating['position_predict'] = (\n",
    "    test_data_team_rating\n",
    "    .groupby('game_id')\n",
    "    .cumcount() + 1\n",
    ")"
   ]
  },
  {
   "cell_type": "code",
   "execution_count": 324,
   "id": "d32f7b68",
   "metadata": {},
   "outputs": [
    {
     "name": "stdout",
     "output_type": "stream",
     "text": [
      "0.7240688317678857\n"
     ]
    }
   ],
   "source": [
    "import scipy.stats as stats\n",
    "tau, _ = stats.kendalltau(test_data_team_rating.team_position, test_data_team_rating.position_predict)\n",
    "print(tau)"
   ]
  },
  {
   "cell_type": "code",
   "execution_count": 325,
   "id": "5c71d69e",
   "metadata": {},
   "outputs": [
    {
     "name": "stdout",
     "output_type": "stream",
     "text": [
      "0.8859030730309484\n"
     ]
    }
   ],
   "source": [
    "cor, _ = stats.spearmanr(test_data_team_rating.team_position, test_data_team_rating.position_predict)\n",
    "print(cor)"
   ]
  },
  {
   "cell_type": "code",
   "execution_count": null,
   "id": "5c5418be",
   "metadata": {},
   "outputs": [],
   "source": []
  },
  {
   "cell_type": "code",
   "execution_count": null,
   "id": "9d1c76e9",
   "metadata": {},
   "outputs": [],
   "source": []
  },
  {
   "cell_type": "code",
   "execution_count": null,
   "id": "a7cbdde5",
   "metadata": {},
   "outputs": [],
   "source": []
  },
  {
   "cell_type": "code",
   "execution_count": null,
   "id": "94467efc",
   "metadata": {},
   "outputs": [],
   "source": []
  },
  {
   "cell_type": "code",
   "execution_count": null,
   "id": "72177873",
   "metadata": {},
   "outputs": [],
   "source": []
  },
  {
   "cell_type": "code",
   "execution_count": null,
   "id": "9971d361",
   "metadata": {},
   "outputs": [],
   "source": []
  }
 ],
 "metadata": {
  "kernelspec": {
   "display_name": "Python 3",
   "language": "python",
   "name": "python3"
  },
  "language_info": {
   "codemirror_mode": {
    "name": "ipython",
    "version": 3
   },
   "file_extension": ".py",
   "mimetype": "text/x-python",
   "name": "python",
   "nbconvert_exporter": "python",
   "pygments_lexer": "ipython3",
   "version": "3.8.8"
  }
 },
 "nbformat": 4,
 "nbformat_minor": 5
}
